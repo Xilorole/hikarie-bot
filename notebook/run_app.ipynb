{
 "cells": [
  {
   "cell_type": "code",
   "execution_count": 2,
   "metadata": {},
   "outputs": [
    {
     "ename": "ImportError",
     "evalue": "cannot import name 'init_db' from 'hikarie_bot.database' (/workspaces/hikarie-bot/hikarie_bot/database.py)",
     "output_type": "error",
     "traceback": [
      "\u001b[0;31m---------------------------------------------------------------------------\u001b[0m",
      "\u001b[0;31mImportError\u001b[0m                               Traceback (most recent call last)",
      "Cell \u001b[0;32mIn[2], line 4\u001b[0m\n\u001b[1;32m      2\u001b[0m \u001b[38;5;28;01mimport\u001b[39;00m \u001b[38;5;21;01mos\u001b[39;00m\n\u001b[1;32m      3\u001b[0m \u001b[38;5;28;01mfrom\u001b[39;00m \u001b[38;5;21;01mtime\u001b[39;00m \u001b[38;5;28;01mimport\u001b[39;00m sleep\n\u001b[0;32m----> 4\u001b[0m \u001b[38;5;28;01mfrom\u001b[39;00m \u001b[38;5;21;01mhikarie_bot\u001b[39;00m\u001b[38;5;21;01m.\u001b[39;00m\u001b[38;5;21;01mutils\u001b[39;00m \u001b[38;5;28;01mimport\u001b[39;00m unix_timestamp_to_jst\n",
      "File \u001b[0;32m/workspaces/hikarie-bot/hikarie_bot/__init__.py:6\u001b[0m\n\u001b[1;32m      3\u001b[0m __all__ \u001b[38;5;241m=\u001b[39m [\u001b[38;5;124m\"\u001b[39m\u001b[38;5;124mversion\u001b[39m\u001b[38;5;124m\"\u001b[39m, \u001b[38;5;124m\"\u001b[39m\u001b[38;5;124mdatabase\u001b[39m\u001b[38;5;124m\"\u001b[39m]\n\u001b[1;32m      5\u001b[0m \u001b[38;5;28;01mfrom\u001b[39;00m \u001b[38;5;21;01m.\u001b[39;00m\u001b[38;5;21;01m_version\u001b[39;00m \u001b[38;5;28;01mimport\u001b[39;00m version\n\u001b[0;32m----> 6\u001b[0m \u001b[38;5;28;01mfrom\u001b[39;00m \u001b[38;5;21;01m.\u001b[39;00m\u001b[38;5;21;01mdatabase\u001b[39;00m \u001b[38;5;28;01mimport\u001b[39;00m init_db, initially_create_dbs\n",
      "\u001b[0;31mImportError\u001b[0m: cannot import name 'init_db' from 'hikarie_bot.database' (/workspaces/hikarie-bot/hikarie_bot/database.py)"
     ]
    }
   ],
   "source": [
    "from slack_bolt import App\n",
    "import os\n",
    "from time import sleep\n",
    "from hikarie_bot.utils import unix_timestamp_to_jst"
   ]
  },
  {
   "cell_type": "code",
   "execution_count": 6,
   "metadata": {},
   "outputs": [],
   "source": [
    "app = App(token=os.environ.get(\"SLACK_BOT_TOKEN\"))"
   ]
  },
  {
   "cell_type": "code",
   "execution_count": 8,
   "metadata": {},
   "outputs": [],
   "source": [
    "# get the channel history of event_notify\n",
    "channel = \"C02CQMLK64C\"\n",
    "\n",
    "response = app.client.conversations_history(channel=channel, limit=200)"
   ]
  },
  {
   "cell_type": "code",
   "execution_count": 12,
   "metadata": {},
   "outputs": [],
   "source": [
    "data = response.data\n",
    "messages = []\n",
    "if data is not None and isinstance(data, dict):\n",
    "    messages.extend(data[\"messages\"])\n",
    "    # retrieve all message data\n",
    "    while data.get(\"response_metadata\") and data[\"response_metadata\"].get(\n",
    "        \"next_cursor\"\n",
    "    ):\n",
    "        print(\n",
    "            \"pagenating...\"\n",
    "            f'{unix_timestamp_to_jst(data[\"messages\"][0][\"ts\"]):%Y-%m-%d %H:%M:%S}'\n",
    "        )\n",
    "        cursor = data[\"response_metadata\"][\"next_cursor\"]\n",
    "        response = app.client.conversations_history(\n",
    "            channel=channel, cursor=cursor, limit=200\n",
    "        )\n",
    "        messages.extend(data[\"messages\"])\n",
    "        sleep(1)\n",
    "\n",
    "        next_data = response.data\n",
    "        if next_data is not None and isinstance(next_data, dict):\n",
    "            data = next_data"
   ]
  },
  {
   "cell_type": "code",
   "execution_count": 18,
   "metadata": {},
   "outputs": [],
   "source": [
    "from dataclasses import dataclass\n",
    "from typing import Any, Self\n",
    "\n",
    "@dataclass\n",
    "class SlackMessage:\n",
    "    user: str\n",
    "    blocks: list[dict[str, Any]]\n",
    "\n",
    "    @staticmethod\n",
    "    def extract_from_response(raw_message:dict) -> Self:\n",
    "        return SlackMessage(\n",
    "            user=raw_message[\"user\"],\n",
    "            blocks=raw_message[\"blocks\"],\n",
    "        )\n"
   ]
  },
  {
   "cell_type": "code",
   "execution_count": 19,
   "metadata": {},
   "outputs": [
    {
     "data": {
      "text/plain": [
       "[{'user': 'U06A8SJEWK0',\n",
       "  'type': 'message',\n",
       "  'ts': '1723634909.949029',\n",
       "  'bot_id': 'B06AFFYGM2N',\n",
       "  'app_id': 'A06B4899QSU',\n",
       "  'text': 'ヒカリエに出社してる？ ',\n",
       "  'team': 'THDBE7R8R',\n",
       "  'bot_profile': {'id': 'B06AFFYGM2N',\n",
       "   'deleted': False,\n",
       "   'name': 'hikarie-is-god',\n",
       "   'updated': 1702691709,\n",
       "   'app_id': 'A06B4899QSU',\n",
       "   'icons': {'image_36': 'https://a.slack-edge.com/80588/img/plugins/app/bot_36.png',\n",
       "    'image_48': 'https://a.slack-edge.com/80588/img/plugins/app/bot_48.png',\n",
       "    'image_72': 'https://a.slack-edge.com/80588/img/plugins/app/service_72.png'},\n",
       "   'team_id': 'THDBE7R8R'},\n",
       "  'blocks': [{'type': 'section',\n",
       "    'block_id': 'BLK_QUESTION',\n",
       "    'text': {'type': 'mrkdwn', 'text': 'ヒカリエに出社してる？', 'verbatim': False}},\n",
       "   {'type': 'actions',\n",
       "    'block_id': 'yhMS+',\n",
       "    'elements': [{'type': 'button',\n",
       "      'action_id': 'ACK_ARRIVED_OFFICE',\n",
       "      'text': {'type': 'plain_text', 'text': '出社した', 'emoji': True}}]}]},\n",
       " {'user': 'U06A8SJEWK0',\n",
       "  'type': 'message',\n",
       "  'ts': '1723633952.521269',\n",
       "  'bot_id': 'B06AFFYGM2N',\n",
       "  'app_id': 'A06B4899QSU',\n",
       "  'text': 'ヒカリエに出社してる？最速出社登録',\n",
       "  'team': 'THDBE7R8R',\n",
       "  'bot_profile': {'id': 'B06AFFYGM2N',\n",
       "   'app_id': 'A06B4899QSU',\n",
       "   'name': 'hikarie-is-god',\n",
       "   'icons': {'image_36': 'https://a.slack-edge.com/80588/img/plugins/app/bot_36.png',\n",
       "    'image_48': 'https://a.slack-edge.com/80588/img/plugins/app/bot_48.png',\n",
       "    'image_72': 'https://a.slack-edge.com/80588/img/plugins/app/service_72.png'},\n",
       "   'deleted': False,\n",
       "   'updated': 1702691709,\n",
       "   'team_id': 'THDBE7R8R'},\n",
       "  'blocks': [{'type': 'section',\n",
       "    'block_id': 'BLK_QUESTION',\n",
       "    'text': {'type': 'mrkdwn', 'text': 'ヒカリエに出社してる？', 'verbatim': False}},\n",
       "   {'type': 'actions',\n",
       "    'block_id': 'yhMS+',\n",
       "    'elements': [{'type': 'button',\n",
       "      'action_id': 'ACK_ARRIVED_OFFICE',\n",
       "      'text': {'type': 'plain_text', 'text': '出社した', 'emoji': True}}]}]},\n",
       " {'user': 'UHKLLC59N',\n",
       "  'type': 'message',\n",
       "  'ts': '1723632296.864469',\n",
       "  'client_msg_id': '68c0a85b-24dd-471e-aff4-e04cd81ce7e1',\n",
       "  'text': 'event notify test',\n",
       "  'team': 'THDBE7R8R',\n",
       "  'blocks': [{'type': 'rich_text',\n",
       "    'block_id': 'vufsl',\n",
       "    'elements': [{'type': 'rich_text_section',\n",
       "      'elements': [{'type': 'text', 'text': 'event notify test'}]}]}]}]"
      ]
     },
     "execution_count": 19,
     "metadata": {},
     "output_type": "execute_result"
    }
   ],
   "source": [
    "messages"
   ]
  },
  {
   "cell_type": "code",
   "execution_count": 20,
   "metadata": {},
   "outputs": [
    {
     "data": {
      "text/plain": [
       "SlackMessage(user='U06A8SJEWK0', blocks=[{'type': 'section', 'block_id': 'BLK_QUESTION', 'text': {'type': 'mrkdwn', 'text': 'ヒカリエに出社してる？', 'verbatim': False}}, {'type': 'actions', 'block_id': 'yhMS+', 'elements': [{'type': 'button', 'action_id': 'ACK_ARRIVED_OFFICE', 'text': {'type': 'plain_text', 'text': '出社した', 'emoji': True}}]}])"
      ]
     },
     "execution_count": 20,
     "metadata": {},
     "output_type": "execute_result"
    }
   ],
   "source": [
    "SlackMessage.extract_from_response(messages[0])"
   ]
  },
  {
   "cell_type": "code",
   "execution_count": null,
   "metadata": {},
   "outputs": [],
   "source": []
  }
 ],
 "metadata": {
  "kernelspec": {
   "display_name": ".venv",
   "language": "python",
   "name": "python3"
  },
  "language_info": {
   "codemirror_mode": {
    "name": "ipython",
    "version": 3
   },
   "file_extension": ".py",
   "mimetype": "text/x-python",
   "name": "python",
   "nbconvert_exporter": "python",
   "pygments_lexer": "ipython3",
   "version": "3.12.3"
  }
 },
 "nbformat": 4,
 "nbformat_minor": 2
}
